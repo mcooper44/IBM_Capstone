{
    "cells": [
        {
            "cell_type": "markdown",
            "metadata": {},
            "source": "<center>\n    <img src=\"https://gitlab.com/ibm/skills-network/courses/placeholder101/-/raw/master/labs/module%201/images/IDSNlogo.png\"  width=\"300\" alt=\"cognitiveclass.ai logo\"  />\n</center>\n\n<h1 align=center><font size = 5>Assignment: SQL Notebook for Peer Assignment</font></h1>\n\nEstimated time needed: **60** minutes.\n\n## Introduction\n\nUsing this Python notebook you will:\n\n1.  Understand the Spacex DataSet\n2.  Load the dataset  into the corresponding table in a Db2 database\n3.  Execute SQL queries to answer assignment questions\n"
        },
        {
            "cell_type": "markdown",
            "metadata": {},
            "source": "## Overview of the DataSet\n\nSpaceX has gained worldwide attention for a series of historic milestones.\n\nIt is the only private company ever to return a spacecraft from low-earth orbit, which it first accomplished in December 2010.\nSpaceX advertises Falcon 9 rocket launches on its website with a cost of 62 million dollars wheras other providers cost upward of 165 million dollars each, much of the savings is because Space X can reuse the first stage.\n\nTherefore if we can determine if the first stage will land, we can determine the cost of a launch.\n\nThis information can be used if an alternate company wants to bid against SpaceX for a rocket launch.\n\nThis dataset includes a record for each payload carried during a SpaceX mission into outer space.\n"
        },
        {
            "cell_type": "markdown",
            "metadata": {},
            "source": "### Download the datasets\n\nThis assignment requires you to load the spacex dataset.\n\nIn many cases the dataset to be analyzed is available as a .CSV (comma separated values) file, perhaps on the internet. Click on the link below to download and save the dataset (.CSV file):\n\n<a href=\"https://cf-courses-data.s3.us.cloud-object-storage.appdomain.cloud/IBM-DS0321EN-SkillsNetwork/labs/module_2/data/Spacex.csv?utm_medium=Exinfluencer&utm_source=Exinfluencer&utm_content=000026UJ&utm_term=10006555&utm_id=NA-SkillsNetwork-Channel-SkillsNetworkCoursesIBMDS0321ENSkillsNetwork26802033-2021-01-01\" target=\"_blank\">Spacex DataSet</a>\n"
        },
        {
            "cell_type": "code",
            "execution_count": null,
            "metadata": {},
            "outputs": [],
            "source": "!pip install sqlalchemy==1.3.9\n!pip install ibm_db_sa\n!pip install ipython-sql"
        },
        {
            "cell_type": "markdown",
            "metadata": {},
            "source": "### Connect to the database\n\nLet us first load the SQL extension and establish a connection with the database\n"
        },
        {
            "cell_type": "code",
            "execution_count": 12,
            "metadata": {},
            "outputs": [],
            "source": "import pandas as pd\nimport sqlite3"
        },
        {
            "cell_type": "code",
            "execution_count": 56,
            "metadata": {},
            "outputs": [],
            "source": "# Read sqlite query results into a pandas DataFrame\ncon = sqlite3.connect(\"space_data2.sql\")"
        },
        {
            "cell_type": "code",
            "execution_count": 71,
            "metadata": {},
            "outputs": [],
            "source": "# Verify that result of SQL query is stored in the dataframe\n#print(df.head())\n\ncon.close()"
        },
        {
            "cell_type": "markdown",
            "metadata": {},
            "source": "## Tasks\n\nNow write and execute SQL queries to solve the assignment tasks.\n\n### Task 1\n\n##### Display the names of the unique launch sites  in the space mission\n"
        },
        {
            "cell_type": "code",
            "execution_count": 2,
            "metadata": {},
            "outputs": [],
            "source": "# could not get db2 console to work so solutions are implemented with Pandas and a locally provisioned SQLite database\ndata = pd.read_csv('https://cf-courses-data.s3.us.cloud-object-storage.appdomain.cloud/IBM-DS0321EN-SkillsNetwork/labs/module_2/data/Spacex.csv?utm_medium=Exinfluencer&utm_source=Exinfluencer&utm_content=000026UJ&utm_term=10006555&utm_id=NA-SkillsNetwork-Channel-SkillsNetworkCoursesIBMDS0321ENSkillsNetwork26802033-2021-01-01')"
        },
        {
            "cell_type": "code",
            "execution_count": null,
            "metadata": {},
            "outputs": [],
            "source": "data.head()"
        },
        {
            "cell_type": "code",
            "execution_count": 4,
            "metadata": {},
            "outputs": [
                {
                    "data": {
                        "text/plain": "array(['CCAFS LC-40', 'VAFB SLC-4E', 'KSC LC-39A', 'CCAFS SLC-40'],\n      dtype=object)"
                    },
                    "execution_count": 4,
                    "metadata": {},
                    "output_type": "execute_result"
                }
            ],
            "source": "data.Launch_Site.unique() # SELECT DISTINCT(Launch_Site) FROM TABLE"
        },
        {
            "cell_type": "code",
            "execution_count": 13,
            "metadata": {},
            "outputs": [
                {
                    "data": {
                        "text/html": "<div>\n<style scoped>\n    .dataframe tbody tr th:only-of-type {\n        vertical-align: middle;\n    }\n\n    .dataframe tbody tr th {\n        vertical-align: top;\n    }\n\n    .dataframe thead th {\n        text-align: right;\n    }\n</style>\n<table border=\"1\" class=\"dataframe\">\n  <thead>\n    <tr style=\"text-align: right;\">\n      <th></th>\n      <th>Launch_Site</th>\n    </tr>\n  </thead>\n  <tbody>\n    <tr>\n      <th>0</th>\n      <td>CCAFS LC-40</td>\n    </tr>\n    <tr>\n      <th>1</th>\n      <td>VAFB SLC-4E</td>\n    </tr>\n    <tr>\n      <th>2</th>\n      <td>KSC LC-39A</td>\n    </tr>\n    <tr>\n      <th>3</th>\n      <td>CCAFS SLC-40</td>\n    </tr>\n  </tbody>\n</table>\n</div>",
                        "text/plain": "    Launch_Site\n0   CCAFS LC-40\n1   VAFB SLC-4E\n2    KSC LC-39A\n3  CCAFS SLC-40"
                    },
                    "execution_count": 13,
                    "metadata": {},
                    "output_type": "execute_result"
                }
            ],
            "source": "task1 = pd.read_sql_query(\"SELECT DISTINCT(Launch_Site) FROM spacex\", con)\ntask1\n"
        },
        {
            "cell_type": "markdown",
            "metadata": {},
            "source": "### Task 2\n\n##### Display 5 records where launch sites begin with the string 'CCA'\n"
        },
        {
            "cell_type": "code",
            "execution_count": 6,
            "metadata": {},
            "outputs": [
                {
                    "data": {
                        "text/html": "<div>\n<style scoped>\n    .dataframe tbody tr th:only-of-type {\n        vertical-align: middle;\n    }\n\n    .dataframe tbody tr th {\n        vertical-align: top;\n    }\n\n    .dataframe thead th {\n        text-align: right;\n    }\n</style>\n<table border=\"1\" class=\"dataframe\">\n  <thead>\n    <tr style=\"text-align: right;\">\n      <th></th>\n      <th>Date</th>\n      <th>Time (UTC)</th>\n      <th>Booster_Version</th>\n      <th>Launch_Site</th>\n      <th>Payload</th>\n      <th>PAYLOAD_MASS__KG_</th>\n      <th>Orbit</th>\n      <th>Customer</th>\n      <th>Mission_Outcome</th>\n      <th>Landing _Outcome</th>\n    </tr>\n  </thead>\n  <tbody>\n    <tr>\n      <th>5</th>\n      <td>29-09-2013</td>\n      <td>16:00:00</td>\n      <td>F9 v1.1  B1003</td>\n      <td>VAFB SLC-4E</td>\n      <td>CASSIOPE</td>\n      <td>500</td>\n      <td>Polar LEO</td>\n      <td>MDA</td>\n      <td>Success</td>\n      <td>Uncontrolled (ocean)</td>\n    </tr>\n    <tr>\n      <th>20</th>\n      <td>17-01-2016</td>\n      <td>18:42:00</td>\n      <td>F9 v1.1 B1017</td>\n      <td>VAFB SLC-4E</td>\n      <td>Jason-3</td>\n      <td>553</td>\n      <td>LEO</td>\n      <td>NASA (LSP) NOAA CNES</td>\n      <td>Success</td>\n      <td>Failure (drone ship)</td>\n    </tr>\n    <tr>\n      <th>28</th>\n      <td>14-01-2017</td>\n      <td>17:54:00</td>\n      <td>F9 FT B1029.1</td>\n      <td>VAFB SLC-4E</td>\n      <td>Iridium NEXT 1</td>\n      <td>9600</td>\n      <td>Polar LEO</td>\n      <td>Iridium Communications</td>\n      <td>Success</td>\n      <td>Success (drone ship)</td>\n    </tr>\n    <tr>\n      <th>29</th>\n      <td>19-02-2017</td>\n      <td>14:39:00</td>\n      <td>F9 FT B1031.1</td>\n      <td>KSC LC-39A</td>\n      <td>SpaceX CRS-10</td>\n      <td>2490</td>\n      <td>LEO (ISS)</td>\n      <td>NASA (CRS)</td>\n      <td>Success</td>\n      <td>Success (ground pad)</td>\n    </tr>\n    <tr>\n      <th>30</th>\n      <td>16-03-2017</td>\n      <td>06:00:00</td>\n      <td>F9 FT B1030</td>\n      <td>KSC LC-39A</td>\n      <td>EchoStar 23</td>\n      <td>5600</td>\n      <td>GTO</td>\n      <td>EchoStar</td>\n      <td>Success</td>\n      <td>No attempt</td>\n    </tr>\n  </tbody>\n</table>\n</div>",
                        "text/plain": "          Date Time (UTC) Booster_Version  Launch_Site         Payload  \\\n5   29-09-2013   16:00:00  F9 v1.1  B1003  VAFB SLC-4E        CASSIOPE   \n20  17-01-2016   18:42:00   F9 v1.1 B1017  VAFB SLC-4E         Jason-3   \n28  14-01-2017   17:54:00   F9 FT B1029.1  VAFB SLC-4E  Iridium NEXT 1   \n29  19-02-2017   14:39:00   F9 FT B1031.1   KSC LC-39A   SpaceX CRS-10   \n30  16-03-2017   06:00:00     F9 FT B1030   KSC LC-39A     EchoStar 23   \n\n    PAYLOAD_MASS__KG_      Orbit                Customer Mission_Outcome  \\\n5                 500  Polar LEO                     MDA         Success   \n20                553        LEO    NASA (LSP) NOAA CNES         Success   \n28               9600  Polar LEO  Iridium Communications         Success   \n29               2490  LEO (ISS)              NASA (CRS)         Success   \n30               5600        GTO                EchoStar         Success   \n\n        Landing _Outcome  \n5   Uncontrolled (ocean)  \n20  Failure (drone ship)  \n28  Success (drone ship)  \n29  Success (ground pad)  \n30            No attempt  "
                    },
                    "execution_count": 6,
                    "metadata": {},
                    "output_type": "execute_result"
                }
            ],
            "source": "data.loc[~data['Launch_Site'].isin(['CCAFS SLC-40','CCAFS LC-40'])].head()\n#df.loc[~df['column_name'].isin(some_values)]\n# SELECT * FROM table WHERE Launch_Site IS IN ('CCAFS SLC-40','CCAFS LC-40') LIMIT 5"
        },
        {
            "cell_type": "code",
            "execution_count": 50,
            "metadata": {},
            "outputs": [
                {
                    "data": {
                        "text/plain": "array(['Success', 'Failure (in flight)',\n       'Success (payload status unclear)', 'Success '], dtype=object)"
                    },
                    "execution_count": 50,
                    "metadata": {},
                    "output_type": "execute_result"
                }
            ],
            "source": "data['Mission_Outcome'].unique()"
        },
        {
            "cell_type": "code",
            "execution_count": 14,
            "metadata": {},
            "outputs": [
                {
                    "data": {
                        "text/html": "<div>\n<style scoped>\n    .dataframe tbody tr th:only-of-type {\n        vertical-align: middle;\n    }\n\n    .dataframe tbody tr th {\n        vertical-align: top;\n    }\n\n    .dataframe thead th {\n        text-align: right;\n    }\n</style>\n<table border=\"1\" class=\"dataframe\">\n  <thead>\n    <tr style=\"text-align: right;\">\n      <th></th>\n      <th>Date</th>\n      <th>Time_(UTC)</th>\n      <th>Booster_Version</th>\n      <th>Launch_Site</th>\n      <th>Payload</th>\n      <th>PAYLOAD_MASS__KG_</th>\n      <th>Orbit</th>\n      <th>Customer</th>\n      <th>Mission_Outcome</th>\n      <th>Landing _Outcome</th>\n    </tr>\n  </thead>\n  <tbody>\n    <tr>\n      <th>0</th>\n      <td>4/6/2010</td>\n      <td>18:45:00</td>\n      <td>F9 v1.0  B0003</td>\n      <td>CCAFS LC-40</td>\n      <td>Dragon Spacecraft Qualification Unit</td>\n      <td>0</td>\n      <td>LEO</td>\n      <td>SpaceX</td>\n      <td>Success</td>\n      <td>Failure (parachute)</td>\n    </tr>\n    <tr>\n      <th>1</th>\n      <td>8/12/2010</td>\n      <td>15:43:00</td>\n      <td>F9 v1.0  B0004</td>\n      <td>CCAFS LC-40</td>\n      <td>Dragon demo flight C1, two CubeSats, barrel of...</td>\n      <td>0</td>\n      <td>LEO (ISS)</td>\n      <td>NASA (COTS) NRO</td>\n      <td>Success</td>\n      <td>Failure (parachute)</td>\n    </tr>\n    <tr>\n      <th>2</th>\n      <td>22-05-2012</td>\n      <td>7:44:00</td>\n      <td>F9 v1.0  B0005</td>\n      <td>CCAFS LC-40</td>\n      <td>Dragon demo flight C2</td>\n      <td>525</td>\n      <td>LEO (ISS)</td>\n      <td>NASA (COTS)</td>\n      <td>Success</td>\n      <td>No attempt</td>\n    </tr>\n    <tr>\n      <th>3</th>\n      <td>8/10/2012</td>\n      <td>0:35:00</td>\n      <td>F9 v1.0  B0006</td>\n      <td>CCAFS LC-40</td>\n      <td>SpaceX CRS-1</td>\n      <td>500</td>\n      <td>LEO (ISS)</td>\n      <td>NASA (CRS)</td>\n      <td>Success</td>\n      <td>No attempt</td>\n    </tr>\n    <tr>\n      <th>4</th>\n      <td>1/3/2013</td>\n      <td>15:10:00</td>\n      <td>F9 v1.0  B0007</td>\n      <td>CCAFS LC-40</td>\n      <td>SpaceX CRS-2</td>\n      <td>677</td>\n      <td>LEO (ISS)</td>\n      <td>NASA (CRS)</td>\n      <td>Success</td>\n      <td>No attempt</td>\n    </tr>\n  </tbody>\n</table>\n</div>",
                        "text/plain": "         Date Time_(UTC) Booster_Version  Launch_Site  \\\n0    4/6/2010   18:45:00  F9 v1.0  B0003  CCAFS LC-40   \n1   8/12/2010   15:43:00  F9 v1.0  B0004  CCAFS LC-40   \n2  22-05-2012    7:44:00  F9 v1.0  B0005  CCAFS LC-40   \n3   8/10/2012    0:35:00  F9 v1.0  B0006  CCAFS LC-40   \n4    1/3/2013   15:10:00  F9 v1.0  B0007  CCAFS LC-40   \n\n                                             Payload PAYLOAD_MASS__KG_  \\\n0               Dragon Spacecraft Qualification Unit                 0   \n1  Dragon demo flight C1, two CubeSats, barrel of...                 0   \n2                              Dragon demo flight C2               525   \n3                                       SpaceX CRS-1               500   \n4                                       SpaceX CRS-2               677   \n\n       Orbit         Customer Mission_Outcome     Landing _Outcome  \n0        LEO           SpaceX         Success  Failure (parachute)  \n1  LEO (ISS)  NASA (COTS) NRO         Success  Failure (parachute)  \n2  LEO (ISS)      NASA (COTS)         Success           No attempt  \n3  LEO (ISS)       NASA (CRS)         Success           No attempt  \n4  LEO (ISS)       NASA (CRS)         Success           No attempt  "
                    },
                    "execution_count": 14,
                    "metadata": {},
                    "output_type": "execute_result"
                }
            ],
            "source": "task2 = pd.read_sql_query(\"SELECT * FROM spacex WHERE launch_Site LIKE 'CCA%' LIMIT 5\", con)\ntask2"
        },
        {
            "cell_type": "markdown",
            "metadata": {},
            "source": "### Task 3\n\n##### Display the total payload mass carried by boosters launched by NASA (CRS)\n"
        },
        {
            "cell_type": "code",
            "execution_count": 17,
            "metadata": {},
            "outputs": [
                {
                    "data": {
                        "text/html": "<div>\n<style scoped>\n    .dataframe tbody tr th:only-of-type {\n        vertical-align: middle;\n    }\n\n    .dataframe tbody tr th {\n        vertical-align: top;\n    }\n\n    .dataframe thead th {\n        text-align: right;\n    }\n</style>\n<table border=\"1\" class=\"dataframe\">\n  <thead>\n    <tr style=\"text-align: right;\">\n      <th></th>\n      <th>Customer</th>\n      <th>total_mass</th>\n    </tr>\n  </thead>\n  <tbody>\n    <tr>\n      <th>0</th>\n      <td>NASA (CRS)</td>\n      <td>45596</td>\n    </tr>\n  </tbody>\n</table>\n</div>",
                        "text/plain": "     Customer  total_mass\n0  NASA (CRS)       45596"
                    },
                    "execution_count": 17,
                    "metadata": {},
                    "output_type": "execute_result"
                }
            ],
            "source": "task3 = pd.read_sql_query(\"SELECT Customer, SUM(PAYLOAD_MASS__KG_) as total_mass FROM spacex WHERE Customer = 'NASA (CRS)'\", con)\ntask3"
        },
        {
            "cell_type": "code",
            "execution_count": 16,
            "metadata": {},
            "outputs": [
                {
                    "data": {
                        "text/plain": "Customer\nABS Eutelsat                                                   7759\nAsiaSat                                                        8963\nBulsatcom                                                      3669\nCONAE                                                          3000\nCONAE, PlanetIQ, SpaceX                                        3130\nCanadian Space Agency (CSA)                                    4200\nEchoStar                                                       5600\nEs hailSat                                                     5300\nHisdesat exactEarth SpaceX                                     2150\nHispasat  NovaWurks                                            6092\nInmarsat                                                       6070\nIntelsat                                                       6761\nIridium Communications                                        67200\nIridium Communications GFZ \u201a NASA                              6460\nKT Corporation                                                 3500\nMDA                                                             500\nNASA (CCD)                                                    12055\nNASA (CCDev)                                                  12530\nNASA (CCP)                                                    12500\nNASA (COTS)                                                     525\nNASA (COTS) NRO                                                   0\nNASA (CRS)                                                    45596\nNASA (CRS), Kacific 1                                          2617\nNASA (CTS)                                                    12050\nNASA (LSP)                                                      362\nNASA (LSP) NOAA CNES                                            553\nNASA / NOAA / ESA / EUMETSAT                                   1192\nNRO                                                            5300\nNSPO                                                            475\nNorthrop Grumman                                               5000\nOrbcomm                                                        3350\nPSN, SpaceIL / IAI                                             4850\nRepublic of Korea Army, Spaceflight Industries (BlackSky)      5500\nSES                                                           23355\nSES EchoStar                                                   5200\nSKY Perfect JSAT Group                                         9296\nSky Perfect JSAT, Kacific 1                                    6956\nSpaceX                                                       185220\nSpaceX, Planet Labs                                           31010\nSpaceX, Planet Labs, PlanetIQ                                 15440\nSpaceX, Spaceflight Industries (BlackSky), Planet Labs        14932\nSpacecom                                                       6500\nSpaceflight Industries                                         4000\nTelesat                                                       14135\nTelkom Indonesia                                               5800\nThaicom                                                        6425\nThales-Alenia/BTRC                                             3600\nTurkmenistan National Space Agency                             4707\nU.S. Air Force                                                 4990\nU.S. Air Force NASA NOAA                                        570\nU.S. Space Force                                               4311\nUSAF                                                           4400\nUSSF                                                           4311\nName: PAYLOAD_MASS__KG_, dtype: int64"
                    },
                    "execution_count": 16,
                    "metadata": {},
                    "output_type": "execute_result"
                }
            ],
            "source": "data.groupby('Customer')['PAYLOAD_MASS__KG_'].sum() # 45596"
        },
        {
            "cell_type": "markdown",
            "metadata": {},
            "source": "### Task 4\n\n##### Display average payload mass carried by booster version F9 v1.1\n"
        },
        {
            "cell_type": "code",
            "execution_count": 18,
            "metadata": {},
            "outputs": [
                {
                    "data": {
                        "text/plain": "2928.4"
                    },
                    "execution_count": 18,
                    "metadata": {},
                    "output_type": "execute_result"
                }
            ],
            "source": "f9 = data.groupby('Booster_Version')['PAYLOAD_MASS__KG_'].mean()\nf9['F9 v1.1']"
        },
        {
            "cell_type": "code",
            "execution_count": 18,
            "metadata": {},
            "outputs": [
                {
                    "data": {
                        "text/html": "<div>\n<style scoped>\n    .dataframe tbody tr th:only-of-type {\n        vertical-align: middle;\n    }\n\n    .dataframe tbody tr th {\n        vertical-align: top;\n    }\n\n    .dataframe thead th {\n        text-align: right;\n    }\n</style>\n<table border=\"1\" class=\"dataframe\">\n  <thead>\n    <tr style=\"text-align: right;\">\n      <th></th>\n      <th>Booster_Version</th>\n      <th>total_mass</th>\n    </tr>\n  </thead>\n  <tbody>\n    <tr>\n      <th>0</th>\n      <td>F9 v1.1</td>\n      <td>14642</td>\n    </tr>\n  </tbody>\n</table>\n</div>",
                        "text/plain": "  Booster_Version  total_mass\n0         F9 v1.1       14642"
                    },
                    "execution_count": 18,
                    "metadata": {},
                    "output_type": "execute_result"
                }
            ],
            "source": "task4 = pd.read_sql_query(\"SELECT Booster_Version, SUM(PAYLOAD_MASS__KG_) as total_mass FROM spacex WHERE Booster_Version = 'F9 v1.1'\", con)\ntask4"
        },
        {
            "cell_type": "markdown",
            "metadata": {},
            "source": "### Task 5\n\n##### List the date when the first succesful landing outcome in ground pad was acheived.\n\n*Hint:Use min function*\n"
        },
        {
            "cell_type": "code",
            "execution_count": 38,
            "metadata": {},
            "outputs": [
                {
                    "data": {
                        "text/html": "<div>\n<style scoped>\n    .dataframe tbody tr th:only-of-type {\n        vertical-align: middle;\n    }\n\n    .dataframe tbody tr th {\n        vertical-align: top;\n    }\n\n    .dataframe thead th {\n        text-align: right;\n    }\n</style>\n<table border=\"1\" class=\"dataframe\">\n  <thead>\n    <tr style=\"text-align: right;\">\n      <th></th>\n      <th>Landing_Outcome</th>\n      <th>MIN(Date)</th>\n    </tr>\n  </thead>\n  <tbody>\n    <tr>\n      <th>0</th>\n      <td>Success (ground pad)</td>\n      <td>1/5/2017</td>\n    </tr>\n  </tbody>\n</table>\n</div>",
                        "text/plain": "        Landing_Outcome MIN(Date)\n0  Success (ground pad)  1/5/2017"
                    },
                    "execution_count": 38,
                    "metadata": {},
                    "output_type": "execute_result"
                }
            ],
            "source": "task5 = pd.read_sql_query(\"SELECT Landing_Outcome, MIN(Date) FROM spacex WHERE Landing_Outcome = 'Success (ground pad)'\", con)\ntask5"
        },
        {
            "cell_type": "code",
            "execution_count": 21,
            "metadata": {},
            "outputs": [
                {
                    "data": {
                        "text/plain": "Landing _Outcome\nControlled (ocean)        11-02-2015\nFailure                   05-12-2018\nFailure (drone ship)      04-03-2016\nFailure (parachute)       04-06-2010\nNo attempt                01-03-2013\nNo attempt                06-08-2019\nPrecluded (drone ship)    28-06-2015\nSuccess                   02-03-2019\nSuccess (drone ship)      06-05-2016\nSuccess (ground pad)      01-05-2017\nUncontrolled (ocean)      21-09-2014\nName: Date, dtype: object"
                    },
                    "execution_count": 21,
                    "metadata": {},
                    "output_type": "execute_result"
                }
            ],
            "source": "data.groupby('Landing _Outcome')['Date'].min() # 01-05-2017\n"
        },
        {
            "cell_type": "markdown",
            "metadata": {},
            "source": "### Task 6\n\n##### List the names of the boosters which have success in drone ship and have payload mass greater than 4000 but less than 6000\n"
        },
        {
            "cell_type": "code",
            "execution_count": 45,
            "metadata": {},
            "outputs": [
                {
                    "data": {
                        "text/html": "<div>\n<style scoped>\n    .dataframe tbody tr th:only-of-type {\n        vertical-align: middle;\n    }\n\n    .dataframe tbody tr th {\n        vertical-align: top;\n    }\n\n    .dataframe thead th {\n        text-align: right;\n    }\n</style>\n<table border=\"1\" class=\"dataframe\">\n  <thead>\n    <tr style=\"text-align: right;\">\n      <th></th>\n      <th>Booster_Version</th>\n      <th>PAYLOAD_MASS__KG_</th>\n      <th>Landing_Outcome</th>\n    </tr>\n  </thead>\n  <tbody>\n    <tr>\n      <th>0</th>\n      <td>F9 FT  B1021.2</td>\n      <td>5300</td>\n      <td>Success (drone ship)</td>\n    </tr>\n    <tr>\n      <th>1</th>\n      <td>F9 FT  B1031.2</td>\n      <td>5200</td>\n      <td>Success (drone ship)</td>\n    </tr>\n    <tr>\n      <th>2</th>\n      <td>F9 FT B1022</td>\n      <td>4696</td>\n      <td>Success (drone ship)</td>\n    </tr>\n    <tr>\n      <th>3</th>\n      <td>F9 FT B1026</td>\n      <td>4600</td>\n      <td>Success (drone ship)</td>\n    </tr>\n  </tbody>\n</table>\n</div>",
                        "text/plain": "  Booster_Version PAYLOAD_MASS__KG_       Landing_Outcome\n0  F9 FT  B1021.2              5300  Success (drone ship)\n1  F9 FT  B1031.2              5200  Success (drone ship)\n2     F9 FT B1022              4696  Success (drone ship)\n3     F9 FT B1026              4600  Success (drone ship)"
                    },
                    "execution_count": 45,
                    "metadata": {},
                    "output_type": "execute_result"
                }
            ],
            "source": "task6 = pd.read_sql_query(\"\"\"SELECT Booster_Version, PAYLOAD_MASS__KG_, Landing_Outcome FROM spacex \n                            WHERE Landing_Outcome = 'Success (drone ship)' AND\n                          PAYLOAD_MASS__KG_ BETWEEN 4000 AND 6000 \n                          GROUP BY Booster_Version LIMIT 4\"\"\", con)\ntask6"
        },
        {
            "cell_type": "code",
            "execution_count": 42,
            "metadata": {},
            "outputs": [
                {
                    "data": {
                        "text/plain": "Booster_Version  Landing _Outcome    \nF9 FT  B1021.2   Success (drone ship)    Success\nF9 FT  B1031.2   Success (drone ship)    Success\nF9 FT B1022      Success (drone ship)    Success\nF9 FT B1026      Success (drone ship)    Success\nName: Mission_Outcome, dtype: object"
                    },
                    "execution_count": 42,
                    "metadata": {},
                    "output_type": "execute_result"
                }
            ],
            "source": "#df.loc[(df['column_name'] >= A) & (df['column_name'] <= B)]\n\nfour_to_six_k = data.loc[(data['PAYLOAD_MASS__KG_'] > 4000) & (data['PAYLOAD_MASS__KG_'] < 6000)]\nfour_to_six_k.loc[four_to_six_k['Landing _Outcome'] =='Success (drone ship)'].groupby(['Booster_Version','Landing _Outcome'])['Mission_Outcome'].sum()\n"
        },
        {
            "cell_type": "markdown",
            "metadata": {},
            "source": "### Task 7\n\n##### List the total number of successful and failure mission outcomes\n"
        },
        {
            "cell_type": "code",
            "execution_count": 46,
            "metadata": {},
            "outputs": [
                {
                    "data": {
                        "text/html": "<div>\n<style scoped>\n    .dataframe tbody tr th:only-of-type {\n        vertical-align: middle;\n    }\n\n    .dataframe tbody tr th {\n        vertical-align: top;\n    }\n\n    .dataframe thead th {\n        text-align: right;\n    }\n</style>\n<table border=\"1\" class=\"dataframe\">\n  <thead>\n    <tr style=\"text-align: right;\">\n      <th></th>\n      <th>Mission_Outcome</th>\n      <th>total</th>\n    </tr>\n  </thead>\n  <tbody>\n    <tr>\n      <th>0</th>\n      <td>Failure (in flight)</td>\n      <td>1</td>\n    </tr>\n    <tr>\n      <th>1</th>\n      <td>Success</td>\n      <td>98</td>\n    </tr>\n    <tr>\n      <th>2</th>\n      <td>Success</td>\n      <td>1</td>\n    </tr>\n    <tr>\n      <th>3</th>\n      <td>Success (payload status unclear)</td>\n      <td>1</td>\n    </tr>\n  </tbody>\n</table>\n</div>",
                        "text/plain": "                    Mission_Outcome  total\n0               Failure (in flight)      1\n1                           Success     98\n2                          Success       1\n3  Success (payload status unclear)      1"
                    },
                    "execution_count": 46,
                    "metadata": {},
                    "output_type": "execute_result"
                }
            ],
            "source": "task7 = pd.read_sql_query(\"\"\"SELECT Mission_Outcome, COUNT(Mission_Outcome) as total from spacex GROUP BY Mission_Outcome\"\"\", con)\ntask7"
        },
        {
            "cell_type": "code",
            "execution_count": 47,
            "metadata": {},
            "outputs": [
                {
                    "data": {
                        "text/plain": "Mission_Outcome\nFailure (in flight)                  1\nSuccess                             98\nSuccess                              1\nSuccess (payload status unclear)     1\nName: Landing _Outcome, dtype: int64"
                    },
                    "execution_count": 47,
                    "metadata": {},
                    "output_type": "execute_result"
                }
            ],
            "source": "data.groupby('Mission_Outcome')['Landing _Outcome'].count() # 100\n"
        },
        {
            "cell_type": "markdown",
            "metadata": {},
            "source": "### Task 8\n\n##### List the   names of the booster_versions which have carried the maximum payload mass. Use a subquery\n"
        },
        {
            "cell_type": "code",
            "execution_count": 47,
            "metadata": {},
            "outputs": [
                {
                    "data": {
                        "text/html": "<div>\n<style scoped>\n    .dataframe tbody tr th:only-of-type {\n        vertical-align: middle;\n    }\n\n    .dataframe tbody tr th {\n        vertical-align: top;\n    }\n\n    .dataframe thead th {\n        text-align: right;\n    }\n</style>\n<table border=\"1\" class=\"dataframe\">\n  <thead>\n    <tr style=\"text-align: right;\">\n      <th></th>\n      <th>Booster_Version</th>\n    </tr>\n  </thead>\n  <tbody>\n    <tr>\n      <th>0</th>\n      <td>F9 FT B1029.1</td>\n    </tr>\n    <tr>\n      <th>1</th>\n      <td>F9 FT B1036.1</td>\n    </tr>\n    <tr>\n      <th>2</th>\n      <td>F9 B4 B1041.1</td>\n    </tr>\n    <tr>\n      <th>3</th>\n      <td>F9 FT  B1036.2</td>\n    </tr>\n    <tr>\n      <th>4</th>\n      <td>F9 B4  B1041.2</td>\n    </tr>\n    <tr>\n      <th>5</th>\n      <td>F9 B5B1048.1</td>\n    </tr>\n    <tr>\n      <th>6</th>\n      <td>F9 B5 B1049.2</td>\n    </tr>\n  </tbody>\n</table>\n</div>",
                        "text/plain": "  Booster_Version\n0   F9 FT B1029.1\n1   F9 FT B1036.1\n2   F9 B4 B1041.1\n3  F9 FT  B1036.2\n4  F9 B4  B1041.2\n5    F9 B5B1048.1\n6   F9 B5 B1049.2"
                    },
                    "execution_count": 47,
                    "metadata": {},
                    "output_type": "execute_result"
                }
            ],
            "source": "task8 = pd.read_sql_query(\"\"\"SELECT Booster_Version\n                            FROM spacex WHERE PAYLOAD_MASS__KG_ = (SELECT MAX(PAYLOAD_MASS__KG_) FROM spacex)\"\"\", con)\ntask8"
        },
        {
            "cell_type": "code",
            "execution_count": 48,
            "metadata": {},
            "outputs": [
                {
                    "data": {
                        "text/html": "<div>\n<style scoped>\n    .dataframe tbody tr th:only-of-type {\n        vertical-align: middle;\n    }\n\n    .dataframe tbody tr th {\n        vertical-align: top;\n    }\n\n    .dataframe thead th {\n        text-align: right;\n    }\n</style>\n<table border=\"1\" class=\"dataframe\">\n  <thead>\n    <tr style=\"text-align: right;\">\n      <th></th>\n      <th>Booster_Version</th>\n    </tr>\n  </thead>\n  <tbody>\n    <tr>\n      <th>0</th>\n      <td>F9 B5 B1048.4</td>\n    </tr>\n    <tr>\n      <th>1</th>\n      <td>F9 B5 B1049.4</td>\n    </tr>\n    <tr>\n      <th>2</th>\n      <td>F9 B5 B1051.3</td>\n    </tr>\n    <tr>\n      <th>3</th>\n      <td>F9 B5 B1056.4</td>\n    </tr>\n    <tr>\n      <th>4</th>\n      <td>F9 B5 B1048.5</td>\n    </tr>\n    <tr>\n      <th>5</th>\n      <td>F9 B5 B1051.4</td>\n    </tr>\n    <tr>\n      <th>6</th>\n      <td>F9 B5 B1049.5</td>\n    </tr>\n    <tr>\n      <th>7</th>\n      <td>F9 B5 B1060.2</td>\n    </tr>\n    <tr>\n      <th>8</th>\n      <td>F9 B5 B1058.3</td>\n    </tr>\n    <tr>\n      <th>9</th>\n      <td>F9 B5 B1051.6</td>\n    </tr>\n    <tr>\n      <th>10</th>\n      <td>F9 B5 B1060.3</td>\n    </tr>\n    <tr>\n      <th>11</th>\n      <td>F9 B5 B1049.7</td>\n    </tr>\n  </tbody>\n</table>\n</div>",
                        "text/plain": "   Booster_Version\n0    F9 B5 B1048.4\n1    F9 B5 B1049.4\n2    F9 B5 B1051.3\n3    F9 B5 B1056.4\n4    F9 B5 B1048.5\n5    F9 B5 B1051.4\n6    F9 B5 B1049.5\n7   F9 B5 B1060.2 \n8   F9 B5 B1058.3 \n9    F9 B5 B1051.6\n10   F9 B5 B1060.3\n11  F9 B5 B1049.7 "
                    },
                    "execution_count": 48,
                    "metadata": {},
                    "output_type": "execute_result"
                }
            ],
            "source": "task8a = pd.read_sql_query(\"\"\"SELECT Booster_Version\n                            FROM spacex WHERE PAYLOAD_MASS__KG_ = 15600\"\"\", con)\ntask8a"
        },
        {
            "cell_type": "code",
            "execution_count": 51,
            "metadata": {},
            "outputs": [
                {
                    "data": {
                        "text/plain": "15600"
                    },
                    "execution_count": 51,
                    "metadata": {},
                    "output_type": "execute_result"
                }
            ],
            "source": "max_payload = data['PAYLOAD_MASS__KG_'].max()\nmax_payload"
        },
        {
            "cell_type": "code",
            "execution_count": 53,
            "metadata": {},
            "outputs": [
                {
                    "data": {
                        "text/plain": "array(['F9 B5 B1048.4', 'F9 B5 B1049.4', 'F9 B5 B1051.3', 'F9 B5 B1056.4',\n       'F9 B5 B1048.5', 'F9 B5 B1051.4', 'F9 B5 B1049.5',\n       'F9 B5 B1060.2 ', 'F9 B5 B1058.3 ', 'F9 B5 B1051.6',\n       'F9 B5 B1060.3', 'F9 B5 B1049.7 '], dtype=object)"
                    },
                    "execution_count": 53,
                    "metadata": {},
                    "output_type": "execute_result"
                }
            ],
            "source": "booster_max = data.loc[(data['PAYLOAD_MASS__KG_'] == 15600)]\nbooster_max['Booster_Version'].unique()"
        },
        {
            "cell_type": "markdown",
            "metadata": {},
            "source": "### Task 9\n\n##### List the failed landing_outcomes in drone ship, their booster versions, and launch site names for the in year 2015\n"
        },
        {
            "cell_type": "code",
            "execution_count": 52,
            "metadata": {},
            "outputs": [
                {
                    "data": {
                        "text/html": "<div>\n<style scoped>\n    .dataframe tbody tr th:only-of-type {\n        vertical-align: middle;\n    }\n\n    .dataframe tbody tr th {\n        vertical-align: top;\n    }\n\n    .dataframe thead th {\n        text-align: right;\n    }\n</style>\n<table border=\"1\" class=\"dataframe\">\n  <thead>\n    <tr style=\"text-align: right;\">\n      <th></th>\n      <th>Date</th>\n      <th>Landing_Outcome</th>\n      <th>Booster_Version</th>\n      <th>Launch_Site</th>\n    </tr>\n  </thead>\n  <tbody>\n    <tr>\n      <th>0</th>\n      <td>10/1/2015</td>\n      <td>Failure (drone ship)</td>\n      <td>F9 v1.1 B1012</td>\n      <td>CCAFS LC-40</td>\n    </tr>\n    <tr>\n      <th>1</th>\n      <td>14-04-2015</td>\n      <td>Failure (drone ship)</td>\n      <td>F9 v1.1 B1015</td>\n      <td>CCAFS LC-40</td>\n    </tr>\n    <tr>\n      <th>2</th>\n      <td>28-06-2015</td>\n      <td>Precluded (drone ship)</td>\n      <td>F9 v1.1 B1018</td>\n      <td>CCAFS LC-40</td>\n    </tr>\n  </tbody>\n</table>\n</div>",
                        "text/plain": "         Date         Landing_Outcome Booster_Version  Launch_Site\n0   10/1/2015    Failure (drone ship)   F9 v1.1 B1012  CCAFS LC-40\n1  14-04-2015    Failure (drone ship)   F9 v1.1 B1015  CCAFS LC-40\n2  28-06-2015  Precluded (drone ship)   F9 v1.1 B1018  CCAFS LC-40"
                    },
                    "execution_count": 52,
                    "metadata": {},
                    "output_type": "execute_result"
                }
            ],
            "source": "task9 = pd.read_sql_query(\"\"\"SELECT Date, Landing_Outcome, Booster_Version, Launch_Site\n                            FROM spacex \n                            WHERE date LIKE '%2015' AND Landing_Outcome LIKE '%(drone ship)'\"\"\", con)\ntask9"
        },
        {
            "cell_type": "code",
            "execution_count": 57,
            "metadata": {},
            "outputs": [],
            "source": "data['Date']= pd.to_datetime(data['Date'])\n"
        },
        {
            "cell_type": "code",
            "execution_count": 60,
            "metadata": {},
            "outputs": [
                {
                    "data": {
                        "text/plain": "0   2010-04-06\n1   2010-08-12\n2   2012-05-22\n3   2012-08-10\n4   2013-01-03\nName: Date, dtype: datetime64[ns]"
                    },
                    "execution_count": 60,
                    "metadata": {},
                    "output_type": "execute_result"
                }
            ],
            "source": "data['Date'].head()"
        },
        {
            "cell_type": "code",
            "execution_count": 61,
            "metadata": {},
            "outputs": [],
            "source": "year_2015 = data.loc[(data['Landing _Outcome'] == 'Failure (drone ship)') & (data['Date'] >= '2015-01-01') & (data['Date'] < '2016-01-01')]"
        },
        {
            "cell_type": "code",
            "execution_count": 67,
            "metadata": {},
            "outputs": [
                {
                    "name": "stdout",
                    "output_type": "stream",
                    "text": "         Date Time (UTC) Booster_Version  Launch_Site       Payload  \\\n13 2015-10-01   09:47:00   F9 v1.1 B1012  CCAFS LC-40  SpaceX CRS-5   \n\n    PAYLOAD_MASS__KG_      Orbit    Customer Mission_Outcome  \\\n13               2395  LEO (ISS)  NASA (CRS)         Success   \n\n        Landing _Outcome  \n13  Failure (drone ship)  \n         Date Time (UTC) Booster_Version  Launch_Site       Payload  \\\n16 2015-04-14   20:10:00   F9 v1.1 B1015  CCAFS LC-40  SpaceX CRS-6   \n\n    PAYLOAD_MASS__KG_      Orbit    Customer Mission_Outcome  \\\n16               1898  LEO (ISS)  NASA (CRS)         Success   \n\n        Landing _Outcome  \n16  Failure (drone ship)  \n"
                }
            ],
            "source": "group_2015 = year_2015.groupby(['Landing _Outcome','Launch_Site','Booster_Version'])\nfor key, item in group_2015:\n    print(group_2015.get_group(key))"
        },
        {
            "cell_type": "markdown",
            "metadata": {},
            "source": "### Task 10\n\n##### Rank the count of landing outcomes (such as Failure (drone ship) or Success (ground pad)) between the date 2010-06-04 and 2017-03-20, in descending order\n"
        },
        {
            "cell_type": "code",
            "execution_count": 63,
            "metadata": {},
            "outputs": [
                {
                    "data": {
                        "text/html": "<div>\n<style scoped>\n    .dataframe tbody tr th:only-of-type {\n        vertical-align: middle;\n    }\n\n    .dataframe tbody tr th {\n        vertical-align: top;\n    }\n\n    .dataframe thead th {\n        text-align: right;\n    }\n</style>\n<table border=\"1\" class=\"dataframe\">\n  <thead>\n    <tr style=\"text-align: right;\">\n      <th></th>\n      <th>Date</th>\n    </tr>\n  </thead>\n  <tbody>\n    <tr>\n      <th>0</th>\n      <td>2010-04-06</td>\n    </tr>\n    <tr>\n      <th>1</th>\n      <td>2010-08-12</td>\n    </tr>\n    <tr>\n      <th>2</th>\n      <td>2012-08-10</td>\n    </tr>\n    <tr>\n      <th>3</th>\n      <td>2013-01-03</td>\n    </tr>\n    <tr>\n      <th>4</th>\n      <td>2013-03-12</td>\n    </tr>\n    <tr>\n      <th>...</th>\n      <td>...</td>\n    </tr>\n    <tr>\n      <th>96</th>\n      <td>2020-05-30</td>\n    </tr>\n    <tr>\n      <th>97</th>\n      <td>2020-06-30</td>\n    </tr>\n    <tr>\n      <th>98</th>\n      <td>2020-08-30</td>\n    </tr>\n    <tr>\n      <th>99</th>\n      <td>2017-10-30</td>\n    </tr>\n    <tr>\n      <th>100</th>\n      <td>2018-01-31</td>\n    </tr>\n  </tbody>\n</table>\n<p>101 rows \u00d7 1 columns</p>\n</div>",
                        "text/plain": "           Date\n0    2010-04-06\n1    2010-08-12\n2    2012-08-10\n3    2013-01-03\n4    2013-03-12\n..          ...\n96   2020-05-30\n97   2020-06-30\n98   2020-08-30\n99   2017-10-30\n100  2018-01-31\n\n[101 rows x 1 columns]"
                    },
                    "execution_count": 63,
                    "metadata": {},
                    "output_type": "execute_result"
                }
            ],
            "source": "task10a = pd.read_sql_query(\"\"\"SELECT Date\n                            FROM spacex \n                           \"\"\", con)\ntask10a"
        },
        {
            "cell_type": "code",
            "execution_count": 70,
            "metadata": {},
            "outputs": [
                {
                    "data": {
                        "text/html": "<div>\n<style scoped>\n    .dataframe tbody tr th:only-of-type {\n        vertical-align: middle;\n    }\n\n    .dataframe tbody tr th {\n        vertical-align: top;\n    }\n\n    .dataframe thead th {\n        text-align: right;\n    }\n</style>\n<table border=\"1\" class=\"dataframe\">\n  <thead>\n    <tr style=\"text-align: right;\">\n      <th></th>\n      <th>Landing_Outcome</th>\n      <th>Total</th>\n    </tr>\n  </thead>\n  <tbody>\n    <tr>\n      <th>0</th>\n      <td>No attempt</td>\n      <td>10</td>\n    </tr>\n    <tr>\n      <th>1</th>\n      <td>Success (drone ship)</td>\n      <td>5</td>\n    </tr>\n    <tr>\n      <th>2</th>\n      <td>Failure (drone ship)</td>\n      <td>5</td>\n    </tr>\n    <tr>\n      <th>3</th>\n      <td>Success (ground pad)</td>\n      <td>4</td>\n    </tr>\n    <tr>\n      <th>4</th>\n      <td>Controlled (ocean)</td>\n      <td>3</td>\n    </tr>\n    <tr>\n      <th>5</th>\n      <td>Uncontrolled (ocean)</td>\n      <td>1</td>\n    </tr>\n    <tr>\n      <th>6</th>\n      <td>Precluded (drone ship)</td>\n      <td>1</td>\n    </tr>\n    <tr>\n      <th>7</th>\n      <td>Failure (parachute)</td>\n      <td>1</td>\n    </tr>\n  </tbody>\n</table>\n</div>",
                        "text/plain": "          Landing_Outcome  Total\n0              No attempt     10\n1    Success (drone ship)      5\n2    Failure (drone ship)      5\n3    Success (ground pad)      4\n4      Controlled (ocean)      3\n5    Uncontrolled (ocean)      1\n6  Precluded (drone ship)      1\n7     Failure (parachute)      1"
                    },
                    "execution_count": 70,
                    "metadata": {},
                    "output_type": "execute_result"
                }
            ],
            "source": "task10 = pd.read_sql_query(\"\"\"SELECT Landing_Outcome, COUNT(Landing_Outcome) as Total\n                            FROM spacex \n                            WHERE DATE(Date) BETWEEN DATE(\"2010-06-04\") AND DATE(\"2017-03-20\")\n                            GROUP by Landing_Outcome ORDER BY Total DESC\"\"\", con)\ntask10"
        },
        {
            "cell_type": "code",
            "execution_count": 73,
            "metadata": {},
            "outputs": [],
            "source": "year_10_17 = data.loc[(data['Date'] >= '2010-06-04') & (data['Date'] < '2017-03-20')]\n\ngroup_10_17 = year_10_17.groupby(['Landing _Outcome'],as_index=False).size()"
        },
        {
            "cell_type": "code",
            "execution_count": 74,
            "metadata": {},
            "outputs": [
                {
                    "data": {
                        "text/html": "<div>\n<style scoped>\n    .dataframe tbody tr th:only-of-type {\n        vertical-align: middle;\n    }\n\n    .dataframe tbody tr th {\n        vertical-align: top;\n    }\n\n    .dataframe thead th {\n        text-align: right;\n    }\n</style>\n<table border=\"1\" class=\"dataframe\">\n  <thead>\n    <tr style=\"text-align: right;\">\n      <th></th>\n      <th>Landing _Outcome</th>\n      <th>size</th>\n    </tr>\n  </thead>\n  <tbody>\n    <tr>\n      <th>0</th>\n      <td>Controlled (ocean)</td>\n      <td>3</td>\n    </tr>\n    <tr>\n      <th>1</th>\n      <td>Failure (drone ship)</td>\n      <td>5</td>\n    </tr>\n    <tr>\n      <th>2</th>\n      <td>Failure (parachute)</td>\n      <td>1</td>\n    </tr>\n    <tr>\n      <th>3</th>\n      <td>No attempt</td>\n      <td>10</td>\n    </tr>\n    <tr>\n      <th>4</th>\n      <td>Precluded (drone ship)</td>\n      <td>1</td>\n    </tr>\n    <tr>\n      <th>5</th>\n      <td>Success (drone ship)</td>\n      <td>5</td>\n    </tr>\n    <tr>\n      <th>6</th>\n      <td>Success (ground pad)</td>\n      <td>5</td>\n    </tr>\n    <tr>\n      <th>7</th>\n      <td>Uncontrolled (ocean)</td>\n      <td>2</td>\n    </tr>\n  </tbody>\n</table>\n</div>",
                        "text/plain": "         Landing _Outcome  size\n0      Controlled (ocean)     3\n1    Failure (drone ship)     5\n2     Failure (parachute)     1\n3              No attempt    10\n4  Precluded (drone ship)     1\n5    Success (drone ship)     5\n6    Success (ground pad)     5\n7    Uncontrolled (ocean)     2"
                    },
                    "execution_count": 74,
                    "metadata": {},
                    "output_type": "execute_result"
                }
            ],
            "source": "group_10_17"
        },
        {
            "cell_type": "markdown",
            "metadata": {},
            "source": "### Reference Links\n\n*   <a href =\"https://cf-courses-data.s3.us.cloud-object-storage.appdomain.cloud/IBMDeveloperSkillsNetwork-DB0201EN-SkillsNetwork/labs/Labs_Coursera_V5/labs/Lab%20-%20String%20Patterns%20-%20Sorting%20-%20Grouping/instructional-labs.md.html?utm_medium=Exinfluencer&utm_source=Exinfluencer&utm_content=000026UJ&utm_term=10006555&utm_id=NA-SkillsNetwork-Channel-SkillsNetworkCoursesIBMDS0321ENSkillsNetwork26802033-2021-01-01&origin=www.coursera.org\">Hands-on Lab : String Patterns, Sorting and Grouping</a>\n\n*   <a  href=\"https://cf-courses-data.s3.us.cloud-object-storage.appdomain.cloud/IBMDeveloperSkillsNetwork-DB0201EN-SkillsNetwork/labs/Labs_Coursera_V5/labs/Lab%20-%20Built-in%20functions%20/Hands-on_Lab__Built-in_Functions.md.html?utm_medium=Exinfluencer&utm_source=Exinfluencer&utm_content=000026UJ&utm_term=10006555&utm_id=NA-SkillsNetwork-Channel-SkillsNetworkCoursesIBMDS0321ENSkillsNetwork26802033-2021-01-01&origin=www.coursera.org\">Hands-on Lab: Built-in functions</a>\n\n*   <a  href=\"https://cf-courses-data.s3.us.cloud-object-storage.appdomain.cloud/IBMDeveloperSkillsNetwork-DB0201EN-SkillsNetwork/labs/Labs_Coursera_V5/labs/Lab%20-%20Sub-queries%20and%20Nested%20SELECTs%20/instructional-labs.md.html?utm_medium=Exinfluencer&utm_source=Exinfluencer&utm_content=000026UJ&utm_term=10006555&utm_id=NA-SkillsNetwork-Channel-SkillsNetworkCoursesIBMDS0321ENSkillsNetwork26802033-2021-01-01&origin=www.coursera.org\">Hands-on Lab : Sub-queries and Nested SELECT Statements</a>\n\n*   <a href=\"https://cf-courses-data.s3.us.cloud-object-storage.appdomain.cloud/IBMDeveloperSkillsNetwork-DB0201EN-SkillsNetwork/labs/Module%205/DB0201EN-Week3-1-3-SQLmagic.ipynb?utm_medium=Exinfluencer&utm_source=Exinfluencer&utm_content=000026UJ&utm_term=10006555&utm_id=NA-SkillsNetwork-Channel-SkillsNetworkCoursesIBMDS0321ENSkillsNetwork26802033-2021-01-01\">Hands-on Tutorial: Accessing Databases with SQL magic</a>\n\n*   <a href= \"https://cf-courses-data.s3.us.cloud-object-storage.appdomain.cloud/IBMDeveloperSkillsNetwork-DB0201EN-SkillsNetwork/labs/Module%205/DB0201EN-Week3-1-4-Analyzing.ipynb?utm_medium=Exinfluencer&utm_source=Exinfluencer&utm_content=000026UJ&utm_term=10006555&utm_id=NA-SkillsNetwork-Channel-SkillsNetworkCoursesIBMDS0321ENSkillsNetwork26802033-2021-01-01\">Hands-on Lab: Analyzing a real World Data Set</a>\n"
        },
        {
            "cell_type": "markdown",
            "metadata": {},
            "source": "## Author(s)\n\n<h4> Lakshmi Holla </h4>\n"
        },
        {
            "cell_type": "markdown",
            "metadata": {},
            "source": "## Other Contributors\n\n<h4> Rav Ahuja </h4>\n"
        },
        {
            "cell_type": "markdown",
            "metadata": {},
            "source": "## Change log\n\n| Date       | Version | Changed by    | Change Description        |\n| ---------- | ------- | ------------- | ------------------------- |\n| 2021-08-24 | 0.3     | Lakshmi Holla | Added library update      |\n| 2021-07-09 | 0.2     | Lakshmi Holla | Changes made in magic sql |\n| 2021-05-20 | 0.1     | Lakshmi Holla | Created Initial Version   |\n"
        },
        {
            "cell_type": "markdown",
            "metadata": {},
            "source": "## <h3 align=\"center\"> \u00a9 IBM Corporation 2021. All rights reserved. <h3/>\n"
        }
    ],
    "metadata": {
        "kernelspec": {
            "display_name": "Python 3.8",
            "language": "python",
            "name": "python3"
        },
        "language_info": {
            "codemirror_mode": {
                "name": "ipython",
                "version": 3
            },
            "file_extension": ".py",
            "mimetype": "text/x-python",
            "name": "python",
            "nbconvert_exporter": "python",
            "pygments_lexer": "ipython3",
            "version": "3.8.10"
        }
    },
    "nbformat": 4,
    "nbformat_minor": 4
}